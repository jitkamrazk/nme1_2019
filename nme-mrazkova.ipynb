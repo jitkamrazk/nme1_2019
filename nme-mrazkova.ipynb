{
 "cells": [
  {
   "cell_type": "markdown",
   "metadata": {},
   "source": [
    "# Naprogramujte řešení soustavy $A\\vec{x} = \\vec{b}$ Gaussovou eliminací:"
   ]
  },
  {
   "cell_type": "code",
   "execution_count": null,
   "metadata": {
    "collapsed": false,
    "scrolled": true
   },
   "outputs": [],
   "source": [
    "import numpy as np"
   ]
  },
  {
   "cell_type": "code",
   "execution_count": null,
   "metadata": {
    "collapsed": false
   },
   "outputs": [],
   "source": [
    "def call_input():\n",
    "    \n",
    "    # matice A\n",
    "    \n",
    "    A = np.array([[-4.821, 5.356, 1.052, 4.267], [6.036, -0.732, 2.134, -1.324], [3.006, -2.307, 1.506, 0.728], [5.604, -41.112, 3.283, 3.415]])\n",
    "\n",
    "    # vektor b\n",
    "\n",
    "    b = np.array([-0.930, 5.713, 8.361, 8.478])\n",
    "    \n",
    "    return A,b"
   ]
  },
  {
   "cell_type": "markdown",
   "metadata": {},
   "source": [
    "## a) bez výběru hlavního prvku (pivotu)"
   ]
  },
  {
   "cell_type": "code",
   "execution_count": null,
   "metadata": {
    "collapsed": false
   },
   "outputs": [],
   "source": [
    "def gauss_eliminace(A,b):\n",
    "        \n",
    "    # pocet radku matice (pocet n-tic)\n",
    "    \n",
    "    n= len(A)\n",
    "    \n",
    "    # prevod na trojuhelnikovou matici\n",
    "    \n",
    "    for i in range (0,n):\n",
    "        for k in range(i+1,n):\n",
    "            m = A[k,i]/A[i,i]\n",
    "            b[k] = b[k] - m * b[i]\n",
    "            for j in range(i, n):\n",
    "                A[k,j] =  A[k,j] - m * A[i,j]\n",
    "           \n",
    "    # reseni horni trojuhelnikove matice\n",
    "    \n",
    "    x = np.zeros(n)\n",
    "    for i in reversed(range(n)): # ve smeru klesajiciho indexu i\n",
    "        x[i] = (b[i] - np.sum(A[i,i+1:]* x[i+1:]))/A[i,i] #scitam pres sloupce od i+1 do n a pro np.sum([]) = 0, viz https://docs.scipy.org/doc/numpy/reference/generated/numpy.sum.html\n",
    "        \n",
    "    return x\n",
    "\n",
    "A,b = call_input() # kvuli zmene matice A a vektoru b v predchozim kodu (prevod na trojuhelnikovy tvar)\n",
    "print(\"A = \\n\", A, 2*\"\\n\", \"b = \", b)\n",
    "print(\"\\n Reseni je : x =\", gauss_eliminace(A,b) )"
   ]
  },
  {
   "cell_type": "markdown",
   "metadata": {},
   "source": [
    "pocet aritmetickych operaci\n",
    "\n",
    "1) prevod na trojuhelnikovou matici\n",
    "(scitani: 26\n",
    "nasobeni: 32)\n",
    "\n",
    "\n",
    "celkem = 58\n",
    "\n",
    "\n",
    "\n",
    "2) reseni horni trojuhelnikove matice (vcetne prvniho kroku)\n",
    "\n",
    "\n",
    "celkem = 18"
   ]
  },
  {
   "cell_type": "markdown",
   "metadata": {},
   "source": [
    "## b) s částečným výběrem hlavního prvku (ve sloupci)"
   ]
  },
  {
   "cell_type": "code",
   "execution_count": null,
   "metadata": {
    "collapsed": false
   },
   "outputs": [],
   "source": [
    "A,b = call_input() # kvuli zmene matice A a vektoru b v predchozim kodu\n",
    "\n",
    "def gauss_eliminace_pivot(A,b):\n",
    "        \n",
    "    # pocet radku matice (pocet n-tic)\n",
    "    \n",
    "    n= len(A)   \n",
    "    \n",
    "    # max prvek ve sloupci\n",
    "    \n",
    "    for i in range(0, n):\n",
    "        pivot = abs(A[i,i])\n",
    "        radek = i\n",
    "        for k in range(i+1, n):\n",
    "            if abs(A[k,i]) > pivot:\n",
    "                pivot = abs(A[k,i])\n",
    "                radek = k\n",
    "                \n",
    "    # prohodit radky\n",
    "    \n",
    "        b[radek], b[i] = b[i], b[radek]\n",
    "        for k in range (i,n):\n",
    "            A[radek, k], A[i, k] = A[i, k], A[radek, k]  \n",
    "            \n",
    "    # prevod na trojuhelnikovou matici\n",
    "    \n",
    "        for k in range(i+1,n):\n",
    "            m = A[k,i]/A[i,i]\n",
    "            b[k] = b[k] - m * b[i]\n",
    "            for j in range(i, n):\n",
    "                A[k,j] =  A[k,j] - m * A[i,j]\n",
    "\n",
    "    # reseni horni trojuhelnikove matice\n",
    "\n",
    "    x = np.zeros(n)\n",
    "    for i in reversed(range(n)): # ve smeru klesajiciho indexu i\n",
    "        x[i] = (b[i] - np.sum(A[i,i+1:]* x[i+1:]))/A[i,i] #scitam pres sloupce od i+1 do n, np.sum([]) = 0\n",
    "    return x\n",
    "\n",
    "A,b = call_input()\n",
    "print(\"A = \\n\", A, 2*\"\\n\", \"b = \", b)\n",
    "print(\"\\n Reseni je : x =\", gauss_eliminace_pivot(A,b))"
   ]
  },
  {
   "cell_type": "markdown",
   "metadata": {},
   "source": [
    "pocet aritmetickych operaci\n",
    "\n",
    "1) prevod na trojuhelnikovou matici (scitani: 26 nasobeni: 32)\n",
    "\n",
    "celkem = 58\n",
    "\n",
    "pokud absolutni hodnota = aritmeticka operace => abs.hodnota:10, celkem: 68\n",
    "\n",
    "2) reseni horni trojuhelnikove matice (vcetne prvniho kroku)\n",
    "\n",
    "celkem = 18"
   ]
  },
  {
   "cell_type": "markdown",
   "metadata": {},
   "source": [
    "## Řešení porovnejte s řešením vypočteným ze vztahu $\\vec{x} = A^{-1}\\vec{b}$"
   ]
  },
  {
   "cell_type": "code",
   "execution_count": null,
   "metadata": {
    "collapsed": false
   },
   "outputs": [],
   "source": [
    "A,b = call_input()\n",
    "\n",
    "# 1. pomoci inverzni matice\n",
    "\n",
    "from numpy.linalg import inv\n",
    "\n",
    "A_inv = inv(A)\n",
    "reseni = A_inv.dot(b) # soucin inverzni matice A_inv a vektoru b\n",
    "print(\"Reseni je: x =\",reseni)\n",
    "\n",
    "\n",
    "# 2. funkce numpy.linalg.solve(a, b): Solve a linear matrix equation, or system of linear scalar equations.\n",
    "\n",
    "solution = np.linalg.solve(A, b)\n",
    "print(\"Reseni je: x =\",solution)"
   ]
  }
 ],
 "metadata": {
  "anaconda-cloud": {},
  "kernelspec": {
   "display_name": "Python [Root]",
   "language": "python",
   "name": "Python [Root]"
  },
  "language_info": {
   "codemirror_mode": {
    "name": "ipython",
    "version": 3
   },
   "file_extension": ".py",
   "mimetype": "text/x-python",
   "name": "python",
   "nbconvert_exporter": "python",
   "pygments_lexer": "ipython3",
   "version": "3.5.2"
  }
 },
 "nbformat": 4,
 "nbformat_minor": 2
}
